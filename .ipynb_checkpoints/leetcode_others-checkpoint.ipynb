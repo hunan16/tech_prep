{
 "cells": [
  {
   "cell_type": "markdown",
   "metadata": {},
   "source": [
    "### 698. Partition to K Equal Sum Subsets\n",
    "\n",
    "Given an array of integers nums and a positive integer k, find whether it's possible to divide this array into k non-empty subsets whose sums are all equal.\n",
    "\n",
    "#### Example 1:\n",
    "```\n",
    "Input: nums = [4, 3, 2, 3, 5, 2, 1], k = 4\n",
    "Output: True\n",
    "Explanation: It's possible to divide it into 4 subsets (5), (1, 4), (2,3), (2,3) with equal sums.\n",
    "```"
   ]
  },
  {
   "cell_type": "code",
   "execution_count": 3,
   "metadata": {},
   "outputs": [],
   "source": [
    "class Solution(object):\n",
    "    def canPartitionKSubsets(self, nums, k):\n",
    "        target, rem = divmod(sum(nums), k)\n",
    "        if rem: return False\n",
    "\n",
    "        def search(groups):\n",
    "            if not nums: return True\n",
    "            v = nums.pop()\n",
    "            for i, group in enumerate(groups):\n",
    "                if group + v <= target:\n",
    "                    groups[i] += v\n",
    "                    if search(groups): return True\n",
    "                    groups[i] -= v\n",
    "                if not group: break\n",
    "            nums.append(v)\n",
    "            return False\n",
    "\n",
    "        nums.sort()\n",
    "        if nums[-1] > target: return False\n",
    "        while nums and nums[-1] == target:\n",
    "            nums.pop()\n",
    "            k -= 1\n",
    "\n",
    "        return search([0] * k)"
   ]
  },
  {
   "cell_type": "markdown",
   "metadata": {},
   "source": [
    "### 242. Valid Anagram      排序     异位字母\n",
    "给定两个字符串 s 和 t ，编写一个函数来判断 t 是否是 s 的一个字母异位词。例如bag 和 gab 是一对字母异位词。\n",
    "- 方法1：对两个字符串排序，比较两个有序序列是否相等"
   ]
  },
  {
   "cell_type": "code",
   "execution_count": 4,
   "metadata": {},
   "outputs": [],
   "source": [
    "import collections\n",
    "\n",
    "def isAnagram( s, t):\n",
    "    if len(s) != len(t):\n",
    "        return False\n",
    "    return len(collections.Counter(s) - collections.Counter(t)) == 0"
   ]
  },
  {
   "cell_type": "code",
   "execution_count": 5,
   "metadata": {},
   "outputs": [
    {
     "data": {
      "text/plain": [
       "False"
      ]
     },
     "execution_count": 5,
     "metadata": {},
     "output_type": "execute_result"
    }
   ],
   "source": [
    "s = ['wedfjks']\n",
    "t = ['sdfasdf']\n",
    "isAnagram(s ,t)"
   ]
  },
  {
   "cell_type": "code",
   "execution_count": 6,
   "metadata": {},
   "outputs": [],
   "source": [
    "## 未理解透彻\n",
    "class Solution:\n",
    "    def isAnagram(self, s, t):\n",
    "        if len(s) != len(t):\n",
    "            return False\n",
    "        return len(collections.Counter(s) - collections.Counter(t)) == 0"
   ]
  },
  {
   "cell_type": "code",
   "execution_count": 7,
   "metadata": {},
   "outputs": [
    {
     "data": {
      "text/plain": [
       "{'mother': 'health', 'father': 'happy', 'me': 666, 'long': 999}"
      ]
     },
     "execution_count": 7,
     "metadata": {},
     "output_type": "execute_result"
    }
   ],
   "source": [
    "# 字典：创建、赋值、查看、删除\n",
    "\n",
    "rand_dict = {'mother':'health','father':'happy','me':666,'long':999}\n",
    "rand_dict"
   ]
  },
  {
   "cell_type": "code",
   "execution_count": 8,
   "metadata": {},
   "outputs": [
    {
     "data": {
      "text/plain": [
       "{'mother': 'health', 'father': 'happy', 'me': 6666, 'long': 999}"
      ]
     },
     "execution_count": 8,
     "metadata": {},
     "output_type": "execute_result"
    }
   ],
   "source": [
    "rand_dict['me'] = 6666\n",
    "rand_dict"
   ]
  },
  {
   "cell_type": "code",
   "execution_count": 9,
   "metadata": {},
   "outputs": [
    {
     "data": {
      "text/plain": [
       "{'mother': 'health', 'father': 'happy', 'me': 6666, 'long': 999, 'additon': 0}"
      ]
     },
     "execution_count": 9,
     "metadata": {},
     "output_type": "execute_result"
    }
   ],
   "source": [
    "rand_dict['additon'] = 0\n",
    "rand_dict"
   ]
  },
  {
   "cell_type": "markdown",
   "metadata": {},
   "source": [
    "### 1. Two Sum"
   ]
  },
  {
   "cell_type": "code",
   "execution_count": 10,
   "metadata": {},
   "outputs": [
    {
     "data": {
      "text/plain": [
       "[1, 2]"
      ]
     },
     "execution_count": 10,
     "metadata": {},
     "output_type": "execute_result"
    }
   ],
   "source": [
    "nums = [0, 1, 2, 1, 1, 2, 2, 2, 2, 3]\n",
    "target = 3\n",
    "\n",
    "class Solution(object):\n",
    "    def twoSum(self, nums, target):          # 输入参数为一个列表nums 和一个目标和\n",
    "        if len(nums) <= 1:                   # 如果列表长度小于1返回0\n",
    "            return False\n",
    "        buff_dict = {}                       # 创建空字典存储 供后面查询\n",
    "        for i in range(len(nums)):\n",
    "            if nums[i] in buff_dict:         # 对列表中每个元素进行查询\n",
    "                return [buff_dict[nums[i]], i]    # 查到可配对的就输出[查到的可配对的元素在列表中的索引，该元素的索引i]\n",
    "            else:\n",
    "                buff_dict[target - nums[i]] = i   # 未查到可配对的就保存{目标值-该元素值：该元素在列表中的索引}\n",
    "                \n",
    "x = Solution()\n",
    "x.twoSum(nums, target)"
   ]
  },
  {
   "cell_type": "code",
   "execution_count": 11,
   "metadata": {},
   "outputs": [
    {
     "data": {
      "text/plain": [
       "[1, 2]"
      ]
     },
     "execution_count": 11,
     "metadata": {},
     "output_type": "execute_result"
    }
   ],
   "source": [
    "class Solution():\n",
    "    def twosum(self, nums, targets):        # 注意def 定义函数末尾的冒号 ：\n",
    "        if len(nums)<=1:\n",
    "            return False\n",
    "        query_dict = {}\n",
    "        for i in range(len(nums)):\n",
    "            if nums[i] in query_dict:\n",
    "                return [query_dict[nums[i]], i]\n",
    "            else:\n",
    "                query_dict[target - nums[i]] = i\n",
    "                \n",
    "                \n",
    "x = Solution()\n",
    "x.twosum(nums, target)"
   ]
  },
  {
   "cell_type": "markdown",
   "metadata": {},
   "source": [
    "### 进度\n",
    "leetcode高频     array     two sum\n",
    "帖子美团面试     array    数组先递增后递减\n",
    "leetcode        排序     异位字母\n",
    "云栖社区       动态规划   硬币问题\n",
    "牛客网2017真题   动态规划   合唱团"
   ]
  },
  {
   "cell_type": "markdown",
   "metadata": {},
   "source": [
    "### 帖子美团面试：一个先递增后递减的数组，找到其中的最大值"
   ]
  },
  {
   "cell_type": "code",
   "execution_count": 12,
   "metadata": {},
   "outputs": [
    {
     "data": {
      "text/plain": [
       "[6, 9]"
      ]
     },
     "execution_count": 12,
     "metadata": {},
     "output_type": "execute_result"
    }
   ],
   "source": [
    "# 二分查找\n",
    "\n",
    "def binary_search(nums):\n",
    "    left = 0\n",
    "    right = len(nums)-1\n",
    "    mid = (left + right)//2\n",
    "    \n",
    "    while (mid > 0 and mid < len(nums)-1):              # python中 &&不能代替and\n",
    "        \n",
    "        if nums[mid]>nums[mid-1] and nums[mid]>nums[mid+1]:\n",
    "            return [mid , nums[mid]]\n",
    "        \n",
    "        elif nums[mid]<nums[mid-1]:\n",
    "            right = mid\n",
    "           \n",
    "        elif nums[mid]<nums[mid+1]:\n",
    "            left = mid\n",
    "            \n",
    "        mid = (left + right)//2\n",
    "\n",
    "        \n",
    "nums = [1,2,3,4,5,8,9,4,3,3,3,1]\n",
    "binary_search(nums)"
   ]
  },
  {
   "cell_type": "markdown",
   "metadata": {},
   "source": [
    "### 云栖社区       动态规划   硬币问题\n",
    "1,3,5面值硬币，求n元，至少需要几枚硬币组合，比如100元，\n",
    "- 如果当前1元，99元至少需要多少\n",
    "- 如果当前3元，97元至少需要多少\n",
    "- 如果当前5元，95元至少需要多少\n",
    "- 只要求出三种情况，最小即为所求，递推关系\n",
    "- d[i] = min(d[i-1]+1, d[i-3]+1, d[i-5]+1)， i >= 5"
   ]
  },
  {
   "cell_type": "code",
   "execution_count": 13,
   "metadata": {},
   "outputs": [
    {
     "name": "stdout",
     "output_type": "stream",
     "text": [
      "[0, 1, 2, 1, 0, 1, 0, 0, 0, 0]\n",
      "[0, 1, 2, 1, 2, 1, 0, 0, 0, 0]\n",
      "[0, 1, 2, 1, 2, 1, 0, 0, 0, 0]\n",
      "[0, 1, 2, 1, 2, 1, 2, 0, 0, 0]\n",
      "[0, 1, 2, 1, 2, 1, 2, 0, 0, 0]\n",
      "[0, 1, 2, 1, 2, 1, 2, 0, 0, 0]\n",
      "[0, 1, 2, 1, 2, 1, 2, 3, 0, 0]\n",
      "[0, 1, 2, 1, 2, 1, 2, 3, 0, 0]\n",
      "[0, 1, 2, 1, 2, 1, 2, 3, 0, 0]\n",
      "[0, 1, 2, 1, 2, 1, 2, 3, 4, 0]\n",
      "[0, 1, 2, 1, 2, 1, 2, 3, 2, 0]\n",
      "[0, 1, 2, 1, 2, 1, 2, 3, 2, 0]\n",
      "[0, 1, 2, 1, 2, 1, 2, 3, 2, 3]\n",
      "[0, 1, 2, 1, 2, 1, 2, 3, 2, 3]\n",
      "[0, 1, 2, 1, 2, 1, 2, 3, 2, 3]\n",
      "[0, 1, 2, 1, 2, 1, 2, 3, 2, 3]\n",
      "3\n"
     ]
    }
   ],
   "source": [
    "def get_coin(coins, n):\n",
    "    \n",
    "    # 假设i元需要j枚硬币d[i]=j,d[0]=0,d[1]=1\n",
    "    # d[i]=min{d[i-1]+1,d[i-3]+1,d[i-5]+1}\n",
    "    # coins 是正整数数组，n也为正整数\n",
    "    \n",
    "    coins.sort()\n",
    "    c_max = coins[-1]\n",
    "    c_min = coins[0]\n",
    "    d = [0]*(max(n, c_max)+1)      # 创造长度为总金额的列表，用来迭代求得最终总金额需要的最少硬币数，同时存储总金额以下的每个金额值\n",
    "    \n",
    "    if n in coins:                 # n是最终要得到的总金额，如果n在coins，d[n] = 1\n",
    "        return 1\n",
    "    \n",
    "    for el in coins:               # 硬币面额中有的金额直接置为1\n",
    "        d[el] = 1\n",
    "      \n",
    "    for N in range(1, n+1):\n",
    "        if d[N] == 0:              # 该if结构表示只对el以外的N值执行循环内的功能\n",
    "            d[N] = n               # N取值的可选范围较大，比1+d[N-coin]大即可，就会被替换掉\n",
    "            for coin in coins:\n",
    "                if N > coin:       # 只讨论至少大于一种硬币面值的总金额，比每种硬币面值都小的n不做计算\n",
    "                    if d[N-coin] !=0:   # 已经在第一个for中将硬币面额中有的金额置为1了，此判断可省略\n",
    "                        d[N] = min(d[N], 1+d[N-coin])\n",
    "                        \n",
    "                else:             \n",
    "                    break\n",
    "                    \n",
    "                print(d)       # 注意这个print包含在for coin循环中，而for coin循环是在if d[N] == 0成立时才执行\n",
    "                \n",
    "    print(d)\n",
    "    return d[n]\n",
    "coins = [1,3,5]\n",
    "n = 9\n",
    "print(get_coin(coins, n))\n"
   ]
  },
  {
   "cell_type": "code",
   "execution_count": 14,
   "metadata": {},
   "outputs": [
    {
     "name": "stdout",
     "output_type": "stream",
     "text": [
      "[0, 1, 2, 1, 0, 1, 0, 0, 0, 0]\n",
      "[0, 1, 2, 1, 2, 1, 0, 0, 0, 0]\n",
      "[0, 1, 2, 1, 2, 1, 0, 0, 0, 0]\n",
      "[0, 1, 2, 1, 2, 1, 2, 0, 0, 0]\n",
      "[0, 1, 2, 1, 2, 1, 2, 0, 0, 0]\n",
      "[0, 1, 2, 1, 2, 1, 2, 0, 0, 0]\n",
      "[0, 1, 2, 1, 2, 1, 2, 3, 0, 0]\n",
      "[0, 1, 2, 1, 2, 1, 2, 3, 0, 0]\n",
      "[0, 1, 2, 1, 2, 1, 2, 3, 0, 0]\n",
      "[0, 1, 2, 1, 2, 1, 2, 3, 4, 0]\n",
      "[0, 1, 2, 1, 2, 1, 2, 3, 2, 0]\n",
      "[0, 1, 2, 1, 2, 1, 2, 3, 2, 0]\n",
      "[0, 1, 2, 1, 2, 1, 2, 3, 2, 3]\n",
      "[0, 1, 2, 1, 2, 1, 2, 3, 2, 3]\n",
      "[0, 1, 2, 1, 2, 1, 2, 3, 2, 3]\n",
      "[0, 1, 2, 1, 2, 1, 2, 3, 2, 3]\n",
      "3\n"
     ]
    }
   ],
   "source": [
    "def coin_nums(coins, n):\n",
    "    coins.sort()\n",
    "    c_max = coins[-1]\n",
    "    c_min = coins[0]\n",
    "    d = [0]*(max(c_max, n)+1)\n",
    "    \n",
    "    for i in coins:\n",
    "        if n == i:\n",
    "            d[n] = 1\n",
    "            \n",
    "    for eq in coins:\n",
    "        d[eq] = 1\n",
    "        \n",
    "    for N in range(1, n+1):\n",
    "        if d[N]==0:\n",
    "            d[N] = n\n",
    "            for coin in coins:\n",
    "                if N>coin:\n",
    "                    d[N] = min(d[N-coin]+1 , d[N])\n",
    "                    print(d)\n",
    "                    \n",
    "                else:\n",
    "                    break\n",
    "                \n",
    "        #else:                             #如果把else break与for循环里的第一个if对齐，会导致d[1]==0不成立时直接退出循环\n",
    "            #break\n",
    "    print(d)    \n",
    "    return d[n]\n",
    "\n",
    "coins = [1,3,5]\n",
    "n = 9\n",
    "print(coin_nums(coins, n))"
   ]
  },
  {
   "cell_type": "markdown",
   "metadata": {},
   "source": [
    "### 牛客网2017真题   动态规划   合唱团\n",
    "\n",
    "有 n 个学生站成一排，每个学生有一个能力值，牛牛想从这 n 个学生中按照顺序选取 k 名学生，要求相邻两个学生的位置编号的差不超过 d，使得这 k 个学生的能力值的乘积最大，你能返回最大的乘积吗？ \n",
    "\n",
    "输入描述:\n",
    "> 每个输入包含 1 个测试用例。每个测试数据的第一行包含一个整数 n (1 <= n <= 50)，表示学生的个数，接下来的一行，包含 n 个整数，按顺序表示每个学生的能力值 ai（-50 <= ai <= 50）。接下来的一行包含两个整数，k 和 d (1 <= k <= 10, 1 <= d <= 50)。"
   ]
  },
  {
   "cell_type": "code",
   "execution_count": 26,
   "metadata": {},
   "outputs": [
    {
     "name": "stdout",
     "output_type": "stream",
     "text": [
      "how many students: 5\n",
      "each student's ability: 1 2 3 4 5\n",
      "2 3\n",
      "20\n"
     ]
    }
   ],
   "source": [
    "# 链接：https://www.nowcoder.com/questionTerminal/661c49118ca241909add3a11c96408c8\n",
    "# 来源：牛客网\n",
    "\n",
    "N = int(input(\"how many students: \").strip())  #在python3.x中raw_input( )和input( )进行了整合，去除了raw_input( ),仅保留了input( )函数，\n",
    "ab = list(map(int, input(\"each student's ability: \").strip().split(' ')))  #其接收任意任性输入，将所有输入默认为字符串处理，并返回字符串类型。\n",
    "(K, D) = list(map(int, input().strip().split(' ')))\n",
    "\n",
    "dmax = [[0] * N for i in range(K)]\n",
    "dmin = [[0] * N for i in range(K)]\n",
    "res = (1 << 64) * (-1)    #左移<< 比如18左移就是将他的二进制形式00010010左移，得到00100100(36)。\n",
    "                          #左移规律:左移一个单位相当于乘2，左移两个单位相当于乘以4，即:左移n个单位相当于乘以2的n次幂\n",
    "\n",
    "for i in range(N):                               # 对N个学生中的每个学生，第i个学生\n",
    "    dmax[0][i] = dmin[0][i] = ab[i]\n",
    "    for k in range(1, K):                        # 挑选出来的第k个学生是队列中的第i个\n",
    "        for pre in range(max(0, i - D), i):\n",
    "            dmax[k][i] = max(dmax[k][i],max(dmax[k - 1][pre] * ab[i],dmin[k - 1][pre] * ab[i]))   # dmax[k-1]表示（0，K-1）刚好表示K个学生\n",
    "            dmin[k][i] = min(dmin[k][i],min(dmax[k - 1][pre] * ab[i],dmin[k - 1][pre] * ab[i]))   # 退出时（1，K）循环时k = K-1\n",
    "    res = max(res, dmax[K - 1][i])              # res通过第10行设为了一个“无穷小”的数，注意是大K\n",
    "\n",
    "print(res)\n",
    "\n",
    "# 实际上本题两个循环所填充的矩阵就是“第i个学生作为第k个被选择的对象所能获得的最大乘积值”，共有i*k个组合"
   ]
  },
  {
   "cell_type": "code",
   "execution_count": 31,
   "metadata": {},
   "outputs": [
    {
     "name": "stdout",
     "output_type": "stream",
     "text": [
      "input the number of students:7\n",
      "input each student's ability:1 2 3 4 5 6 7 \n",
      "how many students to choose and the distance2 3\n",
      "42\n"
     ]
    }
   ],
   "source": [
    "N = int(input(\"input the number of students:\").strip())\n",
    "ab = list(map(int,input(\"input each student's ability:\").strip().split(' ')))\n",
    "(K, D) = list(map(int,input(\"how many students to choose and the distance\").strip().split(' ')))\n",
    "\n",
    "dmax = [[0]*N for i in range(K)]\n",
    "dmin = [[0]*N for i in range(K)]\n",
    "res = (1<<64)*(-1)\n",
    "\n",
    "for i in range(N):\n",
    "    dmax[0][i]=dmin[0][i]=ab[i]\n",
    "    for k in range(1, K):\n",
    "        for pre in range(max(0, i-D),i):\n",
    "            dmax[k][i] = max(dmax[k][i], max(dmax[k-1][pre]*ab[i], dmin[k-1][pre]*ab[i]))\n",
    "            dmin[k][i] = min(dmin[k][i], max(dmax[k-1][pre]*ab[i], dmin[k-1][pre]*ab[i]))\n",
    "    res = max(res, dmax[K-1][i])\n",
    "    \n",
    "print(res)"
   ]
  },
  {
   "cell_type": "markdown",
   "metadata": {},
   "source": [
    "`res = 1 << 64    # 的确与2**64 结果相同 res = 18446744073709551616`\n",
    "\n",
    "### map函数\n",
    "map函数会根据提供的函数对指定序列做映射。\n",
    "\n",
    "map函数的定义：\n",
    "`map(function, sequence[, sequence, ...]) -> list`\n",
    "\n",
    "通过定义可以看到，这个函数的第一个参数是一个函数，剩下的参数是一个或多个序列，返回值是一个集合。\n",
    "\n",
    "function可以理解为是一个一对一或多对一函数，map的作用是以参数序列中的每一个元素调用function函数，返回包含每次function函数返回值的list。\n",
    "比如要对一个序列中的每个元素进行平方运算：\n",
    "`map(lambda x: x ** 2, [1, 2, 3, 4, 5])`\n",
    "\n",
    "返回结果为：\n",
    "[1, 4, 9, 16, 25]\n",
    "\n",
    "在参数存在多个序列时，会依次以每个序列中相同位置的元素做参数调用function函数。\n",
    "比如要对两个序列中的元素依次求和。\n",
    "`map(lambda x, y: x + y, [1, 3, 5, 7, 9], [2, 4, 6, 8, 10])`\n",
    "map返回的list中第一个元素为，参数序列1的第一个元素加参数序列2中的第一个元素(1 + 2)，\n",
    "list中的第二个元素为，参数序列1中的第二个元素加参数序列2中的第二个元素(3 + 4)，\n",
    "依次类推，最后的返回结果为：\n",
    "[3, 7, 11, 15, 19]\n",
    "\n",
    "要注意function函数的参数数量，要和map中提供的集合数量相匹配。如果集合长度不相等，会以最小长度对所有集合进行截取。\n",
    "\n",
    "当函数为None时，操作和zip相似：\n",
    "`map(None, [1, 3, 5, 7, 9], [2, 4, 6, 8, 10])`\n",
    "返回结果为：\n",
    "[(1, 2), (3, 4), (5, 6), (7, 8), (9, 10)]\n",
    "\n",
    "在Python2中map函数会返回一个list列表，如代码：\n",
    "```\n",
    "def f(x, y): return (x, y)\n",
    "l1 = [ 0, 1, 2, 3, 4, 5, 6 ]\n",
    "```\n",
    "\n",
    "返回结果如下：\n",
    "```\n",
    "map(f, l1, l2)\n",
    "[(0, 'Sun'), (1, 'Mon'), (2, 'Tue'), (3, 'Wed'), (4, 'Thu'), (5, 'Fri'), (6, 'Sat')]\n",
    "```\n",
    "但是，在Python3中返回结果如下：\n",
    "```\n",
    "map(f1, l1, l2)\n",
    "<map object at 0x00000000021DA860>\n",
    " l2 = [ 'Sun', 'Mon', 'Tue', 'Wed', 'Thu', 'Fri', 'Sat' ]\n",
    " ```"
   ]
  },
  {
   "cell_type": "code",
   "execution_count": 24,
   "metadata": {},
   "outputs": [
    {
     "name": "stdout",
     "output_type": "stream",
     "text": [
      "y\n"
     ]
    },
    {
     "data": {
      "text/plain": [
       "True"
      ]
     },
     "execution_count": 24,
     "metadata": {},
     "output_type": "execute_result"
    }
   ],
   "source": [
    "def testinput():\n",
    "    while True:\n",
    "        ok = input()\n",
    "        if ok in ('y', 'ye', 'yes'):\n",
    "            return True\n",
    "        else:\n",
    "            break\n",
    "        if ok in ('n', 'no', 'nop', 'nope'):\n",
    "            return False\n",
    "        else:\n",
    "            break\n",
    "        \n",
    "testinput()"
   ]
  },
  {
   "cell_type": "markdown",
   "metadata": {},
   "source": [
    "### 最大公共子序列（LCS）"
   ]
  },
  {
   "cell_type": "code",
   "execution_count": 16,
   "metadata": {},
   "outputs": [
    {
     "name": "stdout",
     "output_type": "stream",
     "text": [
      "[0, 0, 0, 0, 0, 0, 0]\n",
      "[0, 0, 0, 0, 1, 1, 1]\n",
      "[0, 1, 1, 1, 1, 2, 2]\n",
      "[0, 1, 1, 2, 2, 2, 2]\n",
      "[0, 1, 1, 2, 2, 3, 3]\n",
      "[0, 1, 2, 2, 2, 3, 3]\n",
      "[0, 1, 2, 2, 3, 3, 4]\n",
      "[0, 1, 2, 2, 3, 4, 4]\n",
      "\n",
      "[0, 0, 0, 0, 0, 0, 0]\n",
      "[0, 'up', 'up', 'up', 'ok', 'left', 'ok']\n",
      "[0, 'ok', 'left', 'left', 'up', 'ok', 'left']\n",
      "[0, 'up', 'up', 'ok', 'left', 'up', 'up']\n",
      "[0, 'ok', 'up', 'up', 'up', 'ok', 'left']\n",
      "[0, 'up', 'ok', 'up', 'up', 'up', 'up']\n",
      "[0, 'up', 'up', 'up', 'ok', 'up', 'ok']\n",
      "[0, 'ok', 'up', 'up', 'up', 'ok', 'up']\n",
      "\n",
      "BCBA\n"
     ]
    }
   ],
   "source": [
    "def lcs(a,b):\n",
    "    lena=len(a)\n",
    "    lenb=len(b)\n",
    "    c=[[0]*(lenb+1) for j in range(lena+1)]\n",
    "    flag=[[0]*(lenb+1) for j in range(lena+1)]\n",
    "    for i in range(lena):\n",
    "        for j in range(lenb):\n",
    "            if a[i]==b[j]:\n",
    "                c[i+1][j+1]=c[i][j]+1\n",
    "                flag[i+1][j+1]='ok'\n",
    "            elif c[i+1][j]>c[i][j+1]:\n",
    "                c[i+1][j+1]=c[i+1][j]\n",
    "                flag[i+1][j+1]='left'\n",
    "            else:\n",
    "                c[i+1][j+1]=c[i][j+1]\n",
    "                flag[i+1][j+1]='up'\n",
    "    return c,flag\n",
    " \n",
    "def printLcs(flag,a,i,j):\n",
    "    if i==0 or j==0:\n",
    "        return\n",
    "    if flag[i][j]=='ok':\n",
    "        printLcs(flag,a,i-1,j-1)\n",
    "        print(a[i-1],end='')\n",
    "    elif flag[i][j]=='left':\n",
    "        printLcs(flag,a,i,j-1)\n",
    "    else:\n",
    "        printLcs(flag,a,i-1,j)\n",
    "        \n",
    "a='ABCBDAB'\n",
    "b='BDCABA'\n",
    "c,flag=lcs(a,b)\n",
    "for i in c:\n",
    "    print(i)\n",
    "print('')\n",
    "for j in flag:\n",
    "    print(j)\n",
    "print('')\n",
    "printLcs(flag,a,len(a),len(b))\n",
    "print('')"
   ]
  },
  {
   "cell_type": "code",
   "execution_count": 22,
   "metadata": {},
   "outputs": [
    {
     "name": "stdout",
     "output_type": "stream",
     "text": [
      "[0, 0, 0, 0, 0, 0, 0]\n",
      "[0, 0, 0, 0, 1, 1, 1]\n",
      "[0, 1, 1, 1, 1, 2, 2]\n",
      "[0, 1, 1, 2, 2, 2, 2]\n",
      "[0, 1, 1, 2, 2, 3, 3]\n",
      "[0, 1, 1, 2, 2, 3, 3]\n",
      "[0, 1, 1, 2, 3, 3, 4]\n",
      "[0, 1, 2, 2, 3, 3, 4]\n",
      "\n",
      "[0, 0, 0, 0, 0, 0, 0]\n",
      "[0, 'left', 'left', 'left', 'ok', 'left', 'ok']\n",
      "[0, 'ok', 'left', 'left', 'left', 'ok', 'left']\n",
      "[0, 'up', 'left', 'ok', 'left', 'left', 'left']\n",
      "[0, 'ok', 'left', 'up', 'left', 'ok', 'left']\n",
      "[0, 'up', 'left', 'up', 'left', 'up', 'left']\n",
      "[0, 'up', 'left', 'up', 'ok', 'left', 'ok']\n",
      "[0, 'up', 'ok', 'left', 'up', 'left', 'up']\n",
      "\n",
      "B,C,B,A,\n"
     ]
    }
   ],
   "source": [
    "def lcs(a,b):\n",
    "    lena = len(a)\n",
    "    lenb = len(b)\n",
    "    d = [[0]*(lenb+1) for i in range(lena+1)]\n",
    "    flag = [[0]*(lenb+1) for i in range(lena+1)]\n",
    "\n",
    "    for i in range(lena):\n",
    "        for j in range(lenb):\n",
    "            if b[j]==a[i]:\n",
    "                d[i+1][j+1]=d[i][j]+1\n",
    "                flag[i+1][j+1]='ok'\n",
    "            elif d[i][j+1]>d[i+1][j]:\n",
    "                d[i+1][j+1]=d[i][j+1]\n",
    "                flag[i+1][j+1]='up'\n",
    "            else:\n",
    "                d[i+1][j+1]=d[i+1][j]\n",
    "                flag[i+1][j+1]='left'\n",
    "                \n",
    "    return d, flag\n",
    "                \n",
    "                \n",
    "def printlcs(a, flag, i, j):\n",
    "    if i==0 and j==0:\n",
    "        return\n",
    "    if flag[i][j]=='ok':\n",
    "        printlcs(a, flag, i-1,j-1)\n",
    "        print(a[i-1],end=',')\n",
    "    if flag[i][j]=='up':\n",
    "        printlcs(a, flag, i-1,j)\n",
    "    if flag[i][j]=='left':\n",
    "        printlcs(a, flag, i,j-1)\n",
    "        \n",
    "a='ABCBDAE'\n",
    "b='BECABA'\n",
    "c,flag=lcs(a,b)\n",
    "for i in c:\n",
    "    print(i)\n",
    "print('')\n",
    "for j in flag:\n",
    "    print(j)\n",
    "print('')\n",
    "printlcs(a,flag,len(a),len(b))\n",
    "print('')"
   ]
  },
  {
   "cell_type": "code",
   "execution_count": 6,
   "metadata": {},
   "outputs": [
    {
     "name": "stdout",
     "output_type": "stream",
     "text": [
      "[-1-,-2-,-3-,-4-] 1-,-2-,-3-,-4 1-2-3-4\n"
     ]
    }
   ],
   "source": [
    "syb = \"-\"\n",
    "a = \"[1,2,3,4]\"\n",
    "b = \"1,2,3,4\"\n",
    "c = \"1234\"\n",
    "print(syb.join(a),syb.join(b),syb.join(c) )"
   ]
  },
  {
   "cell_type": "code",
   "execution_count": 14,
   "metadata": {},
   "outputs": [
    {
     "name": "stdout",
     "output_type": "stream",
     "text": [
      "[[0, 0, 0, 0], [0, 0, 0, 0], [0, 0, 0, 0], [0, 0, 0, 0]]\n"
     ]
    }
   ],
   "source": [
    "test=[[0 for i in range(4)] for j in range(4)]\n",
    "print(test)"
   ]
  }
 ],
 "metadata": {
  "kernelspec": {
   "display_name": "Python 3",
   "language": "python",
   "name": "python3"
  },
  "language_info": {
   "codemirror_mode": {
    "name": "ipython",
    "version": 3
   },
   "file_extension": ".py",
   "mimetype": "text/x-python",
   "name": "python",
   "nbconvert_exporter": "python",
   "pygments_lexer": "ipython3",
   "version": "3.6.5"
  }
 },
 "nbformat": 4,
 "nbformat_minor": 2
}
