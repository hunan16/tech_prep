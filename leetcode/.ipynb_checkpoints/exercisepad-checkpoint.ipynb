{
 "cells": [
  {
   "cell_type": "markdown",
   "metadata": {},
   "source": [
    "### 698. Partition to K Equal Sum Subsets\n",
    "\n",
    "Given an array of integers nums and a positive integer k, find whether it's possible to divide this array into k non-empty subsets whose sums are all equal.\n",
    "\n",
    "#### Example 1:\n",
    "```\n",
    "Input: nums = [4, 3, 2, 3, 5, 2, 1], k = 4\n",
    "Output: True\n",
    "Explanation: It's possible to divide it into 4 subsets (5), (1, 4), (2,3), (2,3) with equal sums.\n",
    "```"
   ]
  },
  {
   "cell_type": "code",
   "execution_count": 48,
   "metadata": {},
   "outputs": [],
   "source": [
    "class Solution(object):\n",
    "    def canPartitionKSubsets(self, nums, k):\n",
    "        target, rem = divmod(sum(nums), k)\n",
    "        if rem: return False\n",
    "\n",
    "        def search(groups):\n",
    "            if not nums: return True\n",
    "            v = nums.pop()\n",
    "            for i, group in enumerate(groups):\n",
    "                if group + v <= target:\n",
    "                    groups[i] += v\n",
    "                    if search(groups): return True\n",
    "                    groups[i] -= v\n",
    "                if not group: break\n",
    "            nums.append(v)\n",
    "            return False\n",
    "\n",
    "        nums.sort()\n",
    "        if nums[-1] > target: return False\n",
    "        while nums and nums[-1] == target:\n",
    "            nums.pop()\n",
    "            k -= 1\n",
    "\n",
    "        return search([0] * k)"
   ]
  },
  {
   "cell_type": "code",
   "execution_count": 49,
   "metadata": {},
   "outputs": [],
   "source": [
    "import collections\n",
    "\n",
    "def isAnagram( s, t):\n",
    "    if len(s) != len(t):\n",
    "        return False\n",
    "    return len(collections.Counter(s) - collections.Counter(t)) == 0"
   ]
  },
  {
   "cell_type": "code",
   "execution_count": 50,
   "metadata": {},
   "outputs": [
    {
     "data": {
      "text/plain": [
       "False"
      ]
     },
     "execution_count": 50,
     "metadata": {},
     "output_type": "execute_result"
    }
   ],
   "source": [
    "s = ['wedfjks']\n",
    "t = ['sdfasdf']\n",
    "isAnagram(s ,t)"
   ]
  },
  {
   "cell_type": "code",
   "execution_count": 51,
   "metadata": {},
   "outputs": [],
   "source": [
    "## 未理解透彻\n",
    "class Solution:\n",
    "    def isAnagram(self, s, t):\n",
    "        if len(s) != len(t):\n",
    "            return False\n",
    "        return len(collections.Counter(s) - collections.Counter(t)) == 0"
   ]
  },
  {
   "cell_type": "code",
   "execution_count": 52,
   "metadata": {},
   "outputs": [
    {
     "name": "stdout",
     "output_type": "stream",
     "text": [
      "[0, 1, 2, 1, 1, 2, 2, 2, 2, 3]\n",
      "3\n",
      "0.005000591278076172\n"
     ]
    }
   ],
   "source": [
    "from time import time\n",
    "start_t = time()\n",
    "def get_coin(coins, n):\n",
    "    # 假设i元需要j枚硬币d[i]=j,d[0]=0,d[1]=1\n",
    "    # d[i]=min{d[i-1]+1,d[i-3]+1,d[i-5]+1}\n",
    "    # coins 是正整数数组，n也为正整数\n",
    "    coins.sort()\n",
    "    c_max = coins[-1]\n",
    "    c_min = coins[0]\n",
    "    d = [0]*(max(n, c_max)+1)\n",
    "    \n",
    "    # 如果n在coins d[n] = 1\n",
    "    if n in coins:\n",
    "        return 1\n",
    "    # 对d赋初值\n",
    "    for el in coins:\n",
    "        d[el] = 1\n",
    "    # 递推求d[n]\n",
    "    # 从1开始到n\n",
    " \n",
    "    \n",
    "    for N in range(1, n+1):\n",
    "        # 如果，则需要计算d[N]\n",
    "        if d[N] == 0:\n",
    "            # N 可以写成比N-{coins},最小的\n",
    "            d[N] = n-c_max\n",
    "            for coin in coins:\n",
    "               \n",
    "                if N > coin:\n",
    "                    if d[N-coin] !=0:\n",
    "                        d[N] = min(d[N], 1+d[N-coin])\n",
    "                       \n",
    "                else:\n",
    "                    break\n",
    "    print(d)\n",
    "    return d[n]\n",
    "\n",
    "coins = [1,3,4]\n",
    "n = 9\n",
    "print(get_coin(coins, n))\n",
    "end_t = time()\n",
    "print(end_t-start_t)"
   ]
  },
  {
   "cell_type": "code",
   "execution_count": 54,
   "metadata": {},
   "outputs": [
    {
     "data": {
      "text/plain": [
       "[1, 2]"
      ]
     },
     "execution_count": 54,
     "metadata": {},
     "output_type": "execute_result"
    }
   ],
   "source": []
  },
  {
   "cell_type": "code",
   "execution_count": 56,
   "metadata": {},
   "outputs": [
    {
     "data": {
      "text/plain": [
       "{'mother': 'health', 'father': 'happy', 'me': 666, 'long': 999}"
      ]
     },
     "execution_count": 56,
     "metadata": {},
     "output_type": "execute_result"
    }
   ],
   "source": [
    "# 字典：创建、赋值、查看、删除\n",
    "\n",
    "rand_dict = {'mother':'health','father':'happy','me':666,'long':999}\n",
    "rand_dict"
   ]
  },
  {
   "cell_type": "code",
   "execution_count": 58,
   "metadata": {},
   "outputs": [
    {
     "data": {
      "text/plain": [
       "{'mother': 'health', 'father': 'happy', 'me': 6666, 'long': 999}"
      ]
     },
     "execution_count": 58,
     "metadata": {},
     "output_type": "execute_result"
    }
   ],
   "source": [
    "rand_dict['me'] = 6666\n",
    "rand_dict"
   ]
  },
  {
   "cell_type": "code",
   "execution_count": 59,
   "metadata": {},
   "outputs": [
    {
     "data": {
      "text/plain": [
       "{'mother': 'health', 'father': 'happy', 'me': 6666, 'long': 999, 'additon': 0}"
      ]
     },
     "execution_count": 59,
     "metadata": {},
     "output_type": "execute_result"
    }
   ],
   "source": [
    "rand_dict['additon'] = 0\n",
    "rand_dict"
   ]
  },
  {
   "cell_type": "markdown",
   "metadata": {},
   "source": [
    "### 1. Two Sum"
   ]
  },
  {
   "cell_type": "code",
   "execution_count": 68,
   "metadata": {},
   "outputs": [
    {
     "data": {
      "text/plain": [
       "[1, 2]"
      ]
     },
     "execution_count": 68,
     "metadata": {},
     "output_type": "execute_result"
    }
   ],
   "source": [
    "nums = [0, 1, 2, 1, 1, 2, 2, 2, 2, 3]\n",
    "target = 3\n",
    "\n",
    "class Solution(object):\n",
    "    def twoSum(self, nums, target):          # 输入参数为一个列表nums 和一个目标和\n",
    "        if len(nums) <= 1:                   # 如果列表长度小于1返回0\n",
    "            return False\n",
    "        buff_dict = {}                       # 创建空字典存储 供后面查询\n",
    "        for i in range(len(nums)):\n",
    "            if nums[i] in buff_dict:         # 对列表中每个元素进行查询\n",
    "                return [buff_dict[nums[i]], i]    # 查到可配对的就输出[查到的可配对的元素在列表中的索引，该元素的索引i]\n",
    "            else:\n",
    "                buff_dict[target - nums[i]] = i   # 未查到可配对的就保存{目标值-该元素值：该元素在列表中的索引}\n",
    "                \n",
    "x = Solution()\n",
    "x.twoSum(nums, target)"
   ]
  },
  {
   "cell_type": "code",
   "execution_count": 60,
   "metadata": {},
   "outputs": [
    {
     "data": {
      "text/plain": [
       "{'mother': 'health', 'father': 'happy', 'me': 6666, 'long': 999}"
      ]
     },
     "execution_count": 60,
     "metadata": {},
     "output_type": "execute_result"
    }
   ],
   "source": [
    "del rand_dict['additon']\n",
    "rand_dict"
   ]
  },
  {
   "cell_type": "code",
   "execution_count": 72,
   "metadata": {},
   "outputs": [
    {
     "data": {
      "text/plain": [
       "[1, 2]"
      ]
     },
     "execution_count": 72,
     "metadata": {},
     "output_type": "execute_result"
    }
   ],
   "source": [
    "class Solution():\n",
    "    def twosum(self, nums, targets):        # 注意def 定义函数末尾的冒号 ：\n",
    "        if len(nums)<=1:\n",
    "            return False\n",
    "        query_dict = {}\n",
    "        for i in range(len(nums)):\n",
    "            if nums[i] in query_dict:\n",
    "                return [query_dict[nums[i]], i]\n",
    "            else:\n",
    "                query_dict[target - nums[i]] = i\n",
    "                \n",
    "                \n",
    "x = Solution()\n",
    "x.twosum(nums, target)"
   ]
  },
  {
   "cell_type": "code",
   "execution_count": 66,
   "metadata": {},
   "outputs": [
    {
     "data": {
      "text/plain": [
       "{'mother': 'health'}"
      ]
     },
     "execution_count": 66,
     "metadata": {},
     "output_type": "execute_result"
    }
   ],
   "source": [
    "rand_dict = {'mother':'health',}\n",
    "rand_dict"
   ]
  },
  {
   "cell_type": "markdown",
   "metadata": {},
   "source": [
    "### 进度\n",
    "leetcode高频     array     two sum\n",
    "帖子美团面试     array    数组先递增后递减\n",
    "leetcode        排序     异位字母\n",
    "云栖社区       动态规划   硬币问题\n",
    "牛客网2017真题   动态规划   合唱团"
   ]
  }
 ],
 "metadata": {
  "kernelspec": {
   "display_name": "Python 3",
   "language": "python",
   "name": "python3"
  },
  "language_info": {
   "codemirror_mode": {
    "name": "ipython",
    "version": 3
   },
   "file_extension": ".py",
   "mimetype": "text/x-python",
   "name": "python",
   "nbconvert_exporter": "python",
   "pygments_lexer": "ipython3",
   "version": "3.6.5"
  }
 },
 "nbformat": 4,
 "nbformat_minor": 2
}
